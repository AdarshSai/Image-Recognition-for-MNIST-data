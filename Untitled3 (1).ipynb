{
  "nbformat": 4,
  "nbformat_minor": 0,
  "metadata": {
    "colab": {
      "name": "Untitled3.ipynb",
      "provenance": [],
      "collapsed_sections": []
    },
    "kernelspec": {
      "name": "python3",
      "display_name": "Python 3"
    }
  },
  "cells": [
    {
      "cell_type": "code",
      "metadata": {
        "id": "fcKhzRQGl61C",
        "colab_type": "code",
        "colab": {}
      },
      "source": [
        "import tensorflow as tf \n",
        "import numpy as np \n",
        "import matplotlib.pyplot as plt "
      ],
      "execution_count": 0,
      "outputs": []
    },
    {
      "cell_type": "code",
      "metadata": {
        "id": "iynLPl5fl9W2",
        "colab_type": "code",
        "outputId": "95b0a212-b0d3-48e2-eee4-7b23aed7d860",
        "colab": {
          "base_uri": "https://localhost:8080/",
          "height": 90
        }
      },
      "source": [
        "from tensorflow.examples.tutorials.mnist import input_data \n",
        "mnist = input_data.read_data_sets(\"MNIST_data/\",one_hot=True) "
      ],
      "execution_count": 0,
      "outputs": [
        {
          "output_type": "stream",
          "text": [
            "Extracting MNIST_data/train-images-idx3-ubyte.gz\n",
            "Extracting MNIST_data/train-labels-idx1-ubyte.gz\n",
            "Extracting MNIST_data/t10k-images-idx3-ubyte.gz\n",
            "Extracting MNIST_data/t10k-labels-idx1-ubyte.gz\n"
          ],
          "name": "stdout"
        }
      ]
    },
    {
      "cell_type": "code",
      "metadata": {
        "id": "B4j6A0-8mCoY",
        "colab_type": "code",
        "colab": {}
      },
      "source": [
        "# size of batch\n",
        "batch = 200\n",
        "graph = tf.Graph()\n",
        "with graph.as_default():\n",
        "\ttf_train_dataset = tf.placeholder(tf.float32, shape=(batch, 784))\n",
        "\ttf_train_labels = tf.placeholder(tf.float32, shape=(batch, 10))\n",
        "\ttf_valid_dataset = tf.constant(mnist.validation.images)\n",
        "\ttf_test_dataset = tf.constant(mnist.test.images)\n",
        "\tloss_log =  np.zeros((0,2))\n",
        "\tacc_log =  np.zeros((0,2))\n",
        "\tpred_log =  np.zeros((0,2))\n",
        "\tweights = tf.Variable(tf.truncated_normal([784, 10])) \n",
        "\tbiases = tf.Variable(tf.zeros([10])) \n",
        "\n",
        "\tlogits = tf.matmul(tf_train_dataset, weights) + biases \n",
        "\tloss = tf.reduce_mean(tf.nn.softmax_cross_entropy_with_logits( \n",
        "\t\t\t\t\t\tlabels=tf_train_labels, logits=logits)) \n",
        "\n",
        "\toptimizer = tf.train.ProximalGradientDescentOptimizer(learning_rate = 0.08,l1_regularization_strength=0.001,l2_regularization_strength=0.001).minimize(loss) \n",
        "\n",
        "\ttrain_prediction = tf.nn.softmax(logits) \n",
        "\tvalid_prediction = tf.nn.softmax(tf.matmul(tf_valid_dataset, weights) + biases) \n",
        "\ttest_prediction = tf.nn.softmax(tf.matmul(tf_test_dataset, weights) + biases) \n"
      ],
      "execution_count": 0,
      "outputs": []
    },
    {
      "cell_type": "code",
      "metadata": {
        "id": "QBzLdBxBmEio",
        "colab_type": "code",
        "outputId": "0d3afe12-0992-42cd-a37e-d6c60337701a",
        "colab": {
          "base_uri": "https://localhost:8080/",
          "height": 1000
        }
      },
      "source": [
        "\n",
        "def accuracy(predictions, labels): \n",
        "\tcorrectly_predicted = np.sum(np.argmax(predictions, 1) == np.argmax(labels, 1)) \n",
        "\taccu = (100.0 * correctly_predicted) / predictions.shape[0] \n",
        "\treturn accu \n",
        "\n",
        "with tf.Session(graph=graph) as session: \n",
        "\n",
        "\ttf.global_variables_initializer().run() \n",
        "\tprint(\"Initialized\") \n",
        "\n",
        "\tfor step in range(6000): \n",
        "\n",
        "\t\toffset = np.random.randint(0, mnist.train.labels.shape[0] - batch - 1) \n",
        "\t\tbatch_data = mnist.train.images[offset:(offset + batch), :] \n",
        "\t\tbatch_labels = mnist.train.labels[offset:(offset + batch), :] \n",
        "\n",
        "\t\t_, l, predictions = session.run([optimizer, loss, train_prediction], \n",
        "\t\t\t\t\t\t\t\t\t\tfeed_dict={tf_train_dataset : batch_data, \n",
        "\t\t\t\t\ttf_train_labels : batch_labels}) \n",
        "\n",
        "\t\tif (step % 100 == 0): \n",
        "\t\t\tprint(\"Minibatch loss at step {0}: {1}\".format(step, l)) \n",
        "\t\t\tloss_log = np.append(loss_log,[[step,l]],axis=0)\n",
        "\t\t\tacc = accuracy(predictions, batch_labels)\n",
        "\t\t\tprint(\"Minibatch accuracy: {:.1f}%\".format( \n",
        "\t\t\t\tacc))\n",
        "\t\t\tacc_log = np.append(acc_log,[[step,acc]],axis=0)\n",
        "\t\t\tpred = accuracy(valid_prediction.eval(), mnist.validation.labels) \n",
        "\t\t\tprint(\"Validation accuracy: {:.1f}%\".format( \n",
        "\t\t\t\tpred))\n",
        "\t\t\tpred_log = np.append(pred_log,[[step,pred]],axis=0) \n",
        "\n",
        "\tprint(\"\\nTest accuracy: {:.1f}%\".format( \n",
        "\t\taccuracy(test_prediction.eval(), mnist.test.labels))) \n"
      ],
      "execution_count": 0,
      "outputs": [
        {
          "output_type": "stream",
          "text": [
            "Initialized\n",
            "Minibatch loss at step 0: 11.462072372436523\n",
            "Minibatch accuracy: 7.0%\n",
            "Validation accuracy: 7.3%\n",
            "Minibatch loss at step 100: 3.849687099456787\n",
            "Minibatch accuracy: 40.0%\n",
            "Validation accuracy: 42.8%\n",
            "Minibatch loss at step 200: 2.5701653957366943\n",
            "Minibatch accuracy: 48.5%\n",
            "Validation accuracy: 59.4%\n",
            "Minibatch loss at step 300: 1.4169867038726807\n",
            "Minibatch accuracy: 68.0%\n",
            "Validation accuracy: 66.8%\n",
            "Minibatch loss at step 400: 1.4393208026885986\n",
            "Minibatch accuracy: 73.0%\n",
            "Validation accuracy: 71.5%\n",
            "Minibatch loss at step 500: 1.125321865081787\n",
            "Minibatch accuracy: 71.0%\n",
            "Validation accuracy: 74.0%\n",
            "Minibatch loss at step 600: 0.9322166442871094\n",
            "Minibatch accuracy: 79.5%\n",
            "Validation accuracy: 76.0%\n",
            "Minibatch loss at step 700: 0.7928442358970642\n",
            "Minibatch accuracy: 78.5%\n",
            "Validation accuracy: 77.4%\n",
            "Minibatch loss at step 800: 0.6561166644096375\n",
            "Minibatch accuracy: 81.5%\n",
            "Validation accuracy: 78.8%\n",
            "Minibatch loss at step 900: 0.7928946018218994\n",
            "Minibatch accuracy: 80.5%\n",
            "Validation accuracy: 80.0%\n",
            "Minibatch loss at step 1000: 0.8775248527526855\n",
            "Minibatch accuracy: 79.5%\n",
            "Validation accuracy: 81.2%\n",
            "Minibatch loss at step 1100: 0.94942307472229\n",
            "Minibatch accuracy: 81.0%\n",
            "Validation accuracy: 81.7%\n",
            "Minibatch loss at step 1200: 0.9719755053520203\n",
            "Minibatch accuracy: 73.0%\n",
            "Validation accuracy: 82.4%\n",
            "Minibatch loss at step 1300: 0.8606778979301453\n",
            "Minibatch accuracy: 80.0%\n",
            "Validation accuracy: 83.0%\n",
            "Minibatch loss at step 1400: 0.5268430709838867\n",
            "Minibatch accuracy: 85.0%\n",
            "Validation accuracy: 83.6%\n",
            "Minibatch loss at step 1500: 0.7674723863601685\n",
            "Minibatch accuracy: 82.0%\n",
            "Validation accuracy: 84.0%\n",
            "Minibatch loss at step 1600: 0.4677993059158325\n",
            "Minibatch accuracy: 85.5%\n",
            "Validation accuracy: 84.3%\n",
            "Minibatch loss at step 1700: 0.434844434261322\n",
            "Minibatch accuracy: 89.5%\n",
            "Validation accuracy: 84.8%\n",
            "Minibatch loss at step 1800: 0.4939647316932678\n",
            "Minibatch accuracy: 85.5%\n",
            "Validation accuracy: 85.3%\n",
            "Minibatch loss at step 1900: 1.0068843364715576\n",
            "Minibatch accuracy: 75.5%\n",
            "Validation accuracy: 85.6%\n",
            "Minibatch loss at step 2000: 0.4697323739528656\n",
            "Minibatch accuracy: 90.0%\n",
            "Validation accuracy: 85.6%\n",
            "Minibatch loss at step 2100: 0.6816994547843933\n",
            "Minibatch accuracy: 83.0%\n",
            "Validation accuracy: 85.8%\n",
            "Minibatch loss at step 2200: 0.47652775049209595\n",
            "Minibatch accuracy: 85.5%\n",
            "Validation accuracy: 86.2%\n",
            "Minibatch loss at step 2300: 0.40642479062080383\n",
            "Minibatch accuracy: 86.5%\n",
            "Validation accuracy: 86.1%\n",
            "Minibatch loss at step 2400: 0.5587479472160339\n",
            "Minibatch accuracy: 85.0%\n",
            "Validation accuracy: 86.4%\n",
            "Minibatch loss at step 2500: 0.361234575510025\n",
            "Minibatch accuracy: 89.5%\n",
            "Validation accuracy: 86.7%\n",
            "Minibatch loss at step 2600: 0.33500218391418457\n",
            "Minibatch accuracy: 93.0%\n",
            "Validation accuracy: 86.7%\n",
            "Minibatch loss at step 2700: 0.5090304613113403\n",
            "Minibatch accuracy: 87.0%\n",
            "Validation accuracy: 86.9%\n",
            "Minibatch loss at step 2800: 0.4345974028110504\n",
            "Minibatch accuracy: 85.0%\n",
            "Validation accuracy: 87.1%\n",
            "Minibatch loss at step 2900: 0.3905861973762512\n",
            "Minibatch accuracy: 88.5%\n",
            "Validation accuracy: 87.2%\n",
            "Minibatch loss at step 3000: 0.5871904492378235\n",
            "Minibatch accuracy: 80.5%\n",
            "Validation accuracy: 87.6%\n",
            "Minibatch loss at step 3100: 0.4508555233478546\n",
            "Minibatch accuracy: 88.5%\n",
            "Validation accuracy: 87.5%\n",
            "Minibatch loss at step 3200: 0.58952397108078\n",
            "Minibatch accuracy: 81.5%\n",
            "Validation accuracy: 87.6%\n",
            "Minibatch loss at step 3300: 0.37757599353790283\n",
            "Minibatch accuracy: 87.5%\n",
            "Validation accuracy: 87.8%\n",
            "Minibatch loss at step 3400: 0.36492934823036194\n",
            "Minibatch accuracy: 87.0%\n",
            "Validation accuracy: 88.0%\n",
            "Minibatch loss at step 3500: 0.41850176453590393\n",
            "Minibatch accuracy: 87.5%\n",
            "Validation accuracy: 88.0%\n",
            "Minibatch loss at step 3600: 0.3192090690135956\n",
            "Minibatch accuracy: 89.5%\n",
            "Validation accuracy: 88.3%\n",
            "Minibatch loss at step 3700: 0.2765190303325653\n",
            "Minibatch accuracy: 92.0%\n",
            "Validation accuracy: 88.4%\n",
            "Minibatch loss at step 3800: 0.5264352560043335\n",
            "Minibatch accuracy: 85.0%\n",
            "Validation accuracy: 88.3%\n",
            "Minibatch loss at step 3900: 0.15413394570350647\n",
            "Minibatch accuracy: 95.5%\n",
            "Validation accuracy: 88.6%\n",
            "Minibatch loss at step 4000: 0.3887168765068054\n",
            "Minibatch accuracy: 88.0%\n",
            "Validation accuracy: 88.6%\n",
            "Minibatch loss at step 4100: 0.6114683151245117\n",
            "Minibatch accuracy: 82.5%\n",
            "Validation accuracy: 88.7%\n",
            "Minibatch loss at step 4200: 0.41255879402160645\n",
            "Minibatch accuracy: 86.0%\n",
            "Validation accuracy: 88.8%\n",
            "Minibatch loss at step 4300: 0.23383456468582153\n",
            "Minibatch accuracy: 90.5%\n",
            "Validation accuracy: 88.7%\n",
            "Minibatch loss at step 4400: 0.5480992197990417\n",
            "Minibatch accuracy: 85.0%\n",
            "Validation accuracy: 88.9%\n",
            "Minibatch loss at step 4500: 0.3568130433559418\n",
            "Minibatch accuracy: 90.5%\n",
            "Validation accuracy: 89.1%\n",
            "Minibatch loss at step 4600: 0.494467556476593\n",
            "Minibatch accuracy: 83.5%\n",
            "Validation accuracy: 89.3%\n",
            "Minibatch loss at step 4700: 0.35901856422424316\n",
            "Minibatch accuracy: 91.0%\n",
            "Validation accuracy: 89.2%\n",
            "Minibatch loss at step 4800: 0.4654231369495392\n",
            "Minibatch accuracy: 86.5%\n",
            "Validation accuracy: 89.4%\n",
            "Minibatch loss at step 4900: 0.3825475573539734\n",
            "Minibatch accuracy: 90.0%\n",
            "Validation accuracy: 89.5%\n",
            "Minibatch loss at step 5000: 0.38116493821144104\n",
            "Minibatch accuracy: 89.0%\n",
            "Validation accuracy: 89.6%\n",
            "Minibatch loss at step 5100: 0.5546473264694214\n",
            "Minibatch accuracy: 83.5%\n",
            "Validation accuracy: 89.6%\n",
            "Minibatch loss at step 5200: 0.33081740140914917\n",
            "Minibatch accuracy: 93.0%\n",
            "Validation accuracy: 89.8%\n",
            "Minibatch loss at step 5300: 0.248437762260437\n",
            "Minibatch accuracy: 92.5%\n",
            "Validation accuracy: 89.8%\n",
            "Minibatch loss at step 5400: 0.3602748513221741\n",
            "Minibatch accuracy: 89.0%\n",
            "Validation accuracy: 90.0%\n",
            "Minibatch loss at step 5500: 0.5092206001281738\n",
            "Minibatch accuracy: 85.0%\n",
            "Validation accuracy: 90.0%\n",
            "Minibatch loss at step 5600: 0.36271095275878906\n",
            "Minibatch accuracy: 87.5%\n",
            "Validation accuracy: 90.2%\n",
            "Minibatch loss at step 5700: 0.4423201084136963\n",
            "Minibatch accuracy: 88.0%\n",
            "Validation accuracy: 90.2%\n",
            "Minibatch loss at step 5800: 0.41924846172332764\n",
            "Minibatch accuracy: 85.5%\n",
            "Validation accuracy: 90.3%\n",
            "Minibatch loss at step 5900: 0.42618849873542786\n",
            "Minibatch accuracy: 90.5%\n",
            "Validation accuracy: 90.2%\n",
            "\n",
            "Test accuracy: 90.0%\n"
          ],
          "name": "stdout"
        }
      ]
    },
    {
      "cell_type": "code",
      "metadata": {
        "id": "y6s3-hdjhEer",
        "colab_type": "code",
        "outputId": "0bbe17f9-2d81-4104-8bac-15d306fdf6d6",
        "colab": {
          "base_uri": "https://localhost:8080/",
          "height": 851
        }
      },
      "source": [
        "plt.title(\"Loss Function\") \n",
        "plt.xlabel(\"Iteration\") \n",
        "plt.ylabel(\"Loss\") \n",
        "plt.plot(loss_log[:,0],loss_log[:,1]) \n",
        "plt.show()\n",
        "plt.title(\"Accuracy Function\") \n",
        "plt.xlabel(\"Iteration\") \n",
        "plt.ylabel(\"Accuracy\") \n",
        "plt.plot(acc_log[:,0],acc_log[:,1]) \n",
        "plt.show()\n",
        "plt.title(\"Prediction Function\") \n",
        "plt.xlabel(\"Iteration\") \n",
        "plt.ylabel(\"Prediction\") \n",
        "plt.plot(pred_log[:,0],pred_log[:,1]) \n",
        "plt.show()"
      ],
      "execution_count": 0,
      "outputs": [
        {
          "output_type": "display_data",
          "data": {
            "image/png": "[encoded data removed]",
            "text/plain": [
              "<Figure size 432x288 with 1 Axes>"
            ]
          },
          "metadata": {
            "tags": []
          }
        },
        {
          "output_type": "display_data",
          "data": {
            "image/png": "[encoded data removed]",
            "text/plain": [
              "<Figure size 432x288 with 1 Axes>"
            ]
          },
          "metadata": {
            "tags": []
          }
        },
        {
          "output_type": "display_data",
          "data": {
            "image/png": "[encoded data removed]",
            "text/plain": [
              "<Figure size 432x288 with 1 Axes>"
            ]
          },
          "metadata": {
            "tags": []
          }
        }
      ]
    },
    {
      "cell_type": "code",
      "metadata": {
        "id": "AKgrCJ4Hlp02",
        "colab_type": "code",
        "colab": {}
      },
      "source": [
        ""
      ],
      "execution_count": 0,
      "outputs": []
    },
    {
      "cell_type": "code",
      "metadata": {
        "id": "tvD8FKRLmZvj",
        "colab_type": "code",
        "colab": {}
      },
      "source": [
        ""
      ],
      "execution_count": 0,
      "outputs": []
    }
  ]
}